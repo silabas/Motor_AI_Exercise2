{
  "nbformat": 4,
  "nbformat_minor": 0,
  "metadata": {
    "colab": {
      "provenance": []
    },
    "kernelspec": {
      "name": "python3",
      "display_name": "Python 3"
    },
    "language_info": {
      "name": "python"
    }
  },
  "cells": [
    {
      "cell_type": "markdown",
      "source": [
        "#Motor AI Practical Exercise **2**\n",
        "\n",
        "> This exercise includes writing a Python script that combines 3 vector data (road bounds, road markings, buildings) into a single raster RGB mask with following pixel values:\n",
        "\n",
        "\n",
        "\n",
        "*  road bound: [0, 0, 200]\n",
        "*  buildings: [255, 0, 0]\n",
        "*  road markings\n",
        "  *   broken line: [0, 20, 10]\n",
        "  *   cycle lane: [0, 40, 0]\n",
        "  *   dashed line: [0, 45, 70]\n",
        "  *   pedestrian crossing: [0, 100, 0]\n",
        "  *   solid line: [0, 45, 0]\n",
        "  *   stop line: [0, 85, 0]\n",
        "\n",
        "\n",
        "\n",
        "\n",
        "\n",
        "\n",
        "\n",
        "\n"
      ],
      "metadata": {
        "id": "gjP_MN43qsPU"
      }
    },
    {
      "cell_type": "code",
      "source": [
        "!pip install rasterio"
      ],
      "metadata": {
        "colab": {
          "base_uri": "https://localhost:8080/"
        },
        "id": "stBATmFkxa9T",
        "outputId": "69c3d0d3-2fe0-4d2d-a56d-36a8ce6f7e37"
      },
      "execution_count": null,
      "outputs": [
        {
          "output_type": "stream",
          "name": "stdout",
          "text": [
            "Collecting rasterio\n",
            "  Downloading rasterio-1.3.10-cp310-cp310-manylinux2014_x86_64.whl (21.5 MB)\n",
            "\u001b[2K     \u001b[90m━━━━━━━━━━━━━━━━━━━━━━━━━━━━━━━━━━━━━━━━\u001b[0m \u001b[32m21.5/21.5 MB\u001b[0m \u001b[31m23.4 MB/s\u001b[0m eta \u001b[36m0:00:00\u001b[0m\n",
            "\u001b[?25hCollecting affine (from rasterio)\n",
            "  Downloading affine-2.4.0-py3-none-any.whl (15 kB)\n",
            "Requirement already satisfied: attrs in /usr/local/lib/python3.10/dist-packages (from rasterio) (23.2.0)\n",
            "Requirement already satisfied: certifi in /usr/local/lib/python3.10/dist-packages (from rasterio) (2024.7.4)\n",
            "Requirement already satisfied: click>=4.0 in /usr/local/lib/python3.10/dist-packages (from rasterio) (8.1.7)\n",
            "Requirement already satisfied: cligj>=0.5 in /usr/local/lib/python3.10/dist-packages (from rasterio) (0.7.2)\n",
            "Requirement already satisfied: numpy in /usr/local/lib/python3.10/dist-packages (from rasterio) (1.25.2)\n",
            "Collecting snuggs>=1.4.1 (from rasterio)\n",
            "  Downloading snuggs-1.4.7-py3-none-any.whl (5.4 kB)\n",
            "Requirement already satisfied: click-plugins in /usr/local/lib/python3.10/dist-packages (from rasterio) (1.1.1)\n",
            "Requirement already satisfied: setuptools in /usr/local/lib/python3.10/dist-packages (from rasterio) (67.7.2)\n",
            "Requirement already satisfied: pyparsing>=2.1.6 in /usr/local/lib/python3.10/dist-packages (from snuggs>=1.4.1->rasterio) (3.1.2)\n",
            "Installing collected packages: snuggs, affine, rasterio\n",
            "Successfully installed affine-2.4.0 rasterio-1.3.10 snuggs-1.4.7\n"
          ]
        }
      ]
    },
    {
      "cell_type": "code",
      "source": [
        "#Import necessary libraries\n",
        "import rasterio\n",
        "import geopandas as gpd\n",
        "import numpy as np\n",
        "from rasterio import features"
      ],
      "metadata": {
        "id": "eLzd2ulvocOM"
      },
      "execution_count": 1,
      "outputs": []
    },
    {
      "cell_type": "code",
      "source": [
        "#Read raster data\n",
        "with rasterio.open('/content/dop20rgb_386_5826_2022_grid_111.tif') as src:\n",
        "    raster_meta = src.meta.copy()\n",
        "    raster_shape = src.shape\n",
        "    raster_crs = src.crs"
      ],
      "metadata": {
        "id": "_2znVSJMR8YW"
      },
      "execution_count": 2,
      "outputs": []
    },
    {
      "cell_type": "code",
      "source": [
        "#Read equivalent digitized vector data including road bound, road markings and buildings\n",
        "road_bound = gpd.read_file('/content//dop20rgb_386_5826_2022_bounds_grid-111.shp')\n",
        "buildings = gpd.read_file('/content//dop20rgb_386_5826_2022_buildings_grid-111.shp')\n",
        "road_markings = gpd.read_file('/content//dop20rgb_386_5826_2022_markings_grid-111.shp')"
      ],
      "metadata": {
        "id": "KuVKlq5FoyJ_"
      },
      "execution_count": 3,
      "outputs": []
    },
    {
      "cell_type": "code",
      "source": [
        "#Reproject vector data to match the raster CRS\n",
        "road_bound = road_bound.to_crs(raster_crs)\n",
        "buildings = buildings.to_crs(raster_crs)\n",
        "road_markings = road_markings.to_crs(raster_crs)"
      ],
      "metadata": {
        "id": "KB5eb-nu5o6L"
      },
      "execution_count": 5,
      "outputs": []
    },
    {
      "cell_type": "code",
      "source": [
        "#Define pixel values for each feature\n",
        "feature_colors = {\n",
        "    'road_bound': (0, 0, 200),\n",
        "    'buildings': (255, 0, 0),\n",
        "    'broken_line': (0, 20, 10),\n",
        "    'cycle_lane': (0, 40, 0),\n",
        "    'dashed_line': (0, 45, 70),\n",
        "    'pedestrian_crossing': (0, 100, 0),\n",
        "    'solid_line': (0, 45, 0),\n",
        "    'stop_line': (0, 85, 0)\n",
        "}"
      ],
      "metadata": {
        "id": "F1t2mTEDo5TD"
      },
      "execution_count": 6,
      "outputs": []
    },
    {
      "cell_type": "code",
      "source": [
        "#Create empty arrays with numpy for RGB color channels\n",
        "red = np.zeros(raster_shape, dtype=np.uint8)\n",
        "green = np.zeros(raster_shape, dtype=np.uint8)\n",
        "blue = np.zeros(raster_shape, dtype=np.uint8)"
      ],
      "metadata": {
        "id": "KBAOtzqCo7b5"
      },
      "execution_count": 7,
      "outputs": []
    },
    {
      "cell_type": "code",
      "source": [
        "#Define a rasterize function to rasterize features of vector layers\n",
        "def rasterize_feature(gdf, color, buffer_size=0):\n",
        "    if buffer_size > 0:\n",
        "        gdf = gdf.copy()\n",
        "        gdf['geometry'] = gdf['geometry'].buffer(buffer_size)\n",
        "    shapes = ((geom, 1) for geom in gdf.geometry)\n",
        "    mask = features.rasterize(shapes, out_shape=raster_shape, transform=raster_meta['transform'], fill=0, dtype=np.uint8)\n",
        "    return mask * color"
      ],
      "metadata": {
        "id": "QH5QwE_Eo_ej"
      },
      "execution_count": 8,
      "outputs": []
    },
    {
      "cell_type": "code",
      "source": [
        "#Rasterize road bound\n",
        "# Apply buffer to prevent (0,0,0) pixel values for road bounds\n",
        "road_bound_mask = rasterize_feature(road_bound, 1, buffer_size=1)\n",
        "red += road_bound_mask * feature_colors['road_bound'][0]\n",
        "green += road_bound_mask * feature_colors['road_bound'][1]\n",
        "blue += road_bound_mask * feature_colors['road_bound'][2]\n",
        "\n",
        "#Rasterize buildings\n",
        "buildings_mask = rasterize_feature(buildings, 1)\n",
        "red += buildings_mask * feature_colors['buildings'][0]\n",
        "green += buildings_mask * feature_colors['buildings'][1]\n",
        "blue += buildings_mask * feature_colors['buildings'][2]"
      ],
      "metadata": {
        "id": "shFCx2zlpC9t"
      },
      "execution_count": 9,
      "outputs": []
    },
    {
      "cell_type": "code",
      "source": [
        "# Rasterize road markings\n",
        "for feature, color in feature_colors.items():\n",
        "    if feature != 'road_bound' and feature != 'buildings':\n",
        "        feature_gdf = road_markings[road_markings['attributes'] == feature]\n",
        "        feature_mask = rasterize_feature(feature_gdf, 1)\n",
        "        red += feature_mask * color[0]\n",
        "        green += feature_mask * color[1]\n",
        "        blue += feature_mask * color[2]"
      ],
      "metadata": {
        "id": "PoUeWqMepFSc"
      },
      "execution_count": 10,
      "outputs": []
    },
    {
      "cell_type": "code",
      "source": [
        "#Stack color channels into a single RGB raster\n",
        "rgb_raster = np.dstack((red, green, blue))\n",
        "\n",
        "#Update metadata for the output raster\n",
        "raster_meta.update(dtype=np.uint8, count=3)\n",
        "\n",
        "#Save the final raster mask image\n",
        "with rasterio.open('/content/Mask_image.tif', 'w', **raster_meta) as dst:\n",
        "    dst.write(rgb_raster.transpose(2, 0, 1))\n",
        "\n",
        "print(\"Raster mask is created successfully!\")"
      ],
      "metadata": {
        "colab": {
          "base_uri": "https://localhost:8080/"
        },
        "id": "nkXrH0AS5luJ",
        "outputId": "acd718d1-09bb-472e-8d81-d7590064ce35"
      },
      "execution_count": 11,
      "outputs": [
        {
          "output_type": "stream",
          "name": "stdout",
          "text": [
            "Raster mask is created successfully!\n"
          ]
        }
      ]
    }
  ]
}